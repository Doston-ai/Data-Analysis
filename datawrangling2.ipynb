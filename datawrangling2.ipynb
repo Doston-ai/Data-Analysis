{
 "cells": [
  {
   "cell_type": "markdown",
   "metadata": {
    "id": "fVxJerRe4ATj"
   },
   "source": [
    "![Imgur](https://i.imgur.com/h4PPC71.png)\n",
    "#11-modul. Maʼlumotlarga ishlov berish. Maʼlumotlarni tayyorlash\n",
    "# 11.28. Modul boʻyicha yakuniy amaliy vazifa\n",
    "\n",
    "**Bu vazifalarni bajargach, maʼlumotlarni yuklash, tozalash, oʻzgartirish, matnlarni normalizatsiya qilish, qiymatlarni tekshirish, guruhlash va tahlil qilish kabi maʼlumotlarga ishlov berish (data processing) koʻnikmalarini egallaysiz.**"
   ]
  },
  {
   "cell_type": "markdown",
   "metadata": {
    "id": "HhJ8Wd1y6J-b"
   },
   "source": [
    "#**Umumiy maʼlumotlar bilan ishlash**"
   ]
  },
  {
   "cell_type": "markdown",
   "metadata": {
    "id": "co4J2g_1VM4C"
   },
   "source": [
    "#Dataset haqida qisqacha maʼlumot\n",
    "Restoran savdosi boʻyicha maʼlumotlar toʻplami 17 534 tranzaksiya uchun maʼlumotlarni oʻz ichiga oladi. Maʼlumotlar yetishmayotgan yoki baʼzilari toʻliq kiritilmagan boʻlishi mumkin. Maʼlumotlar toʻplamida asosiy taomlar, shirinliklar, ichimliklar kabi bir nechta toifadagi savdo tafsilotlari mavjud.\n",
    "\n",
    "\n",
    " 0.   **Unnamed 0** – indekslarni;\n",
    " 1.   **Order ID** – buyurtma IDʼsini;\n",
    " 2.   **Customer ID** – mijoz IDʼsini;\n",
    " 3.   **Category** – mahsulotlar kategoriyasini;\n",
    " 4.   **Item** – mahsulot nomini;\n",
    " 5.   **Price** – mahsulotning narxini;\n",
    " 6.   **Quantity** – qancha mahsulot sotilgani miqdorini;\n",
    " 7.   **Order Total** – umumiy narx qancha ekanini;\n",
    " 8.   **Order Date** – buyurtma berilgan sanani (vaqt);\n",
    " 9.   **Payment Method** – toʻlov usuli turini saqlaydi."
   ]
  },
  {
   "cell_type": "markdown",
   "metadata": {
    "id": "AJXwX2p958mp"
   },
   "source": [
    "#1) Quyida berilgan datasetni yuklab olib, ustun nomlarini koʻring va ularni maʼno jihatdan tushunarli shaklga keltiring. `Unnamed: 0` ustunini tashlab yuboring!"
   ]
  },
  {
   "cell_type": "code",
   "execution_count": 103,
   "metadata": {
    "colab": {
     "base_uri": "https://localhost:8080/",
     "height": 206
    },
    "executionInfo": {
     "elapsed": 1779,
     "status": "ok",
     "timestamp": 1747429451378,
     "user": {
      "displayName": "Alisher Mutalov",
      "userId": "14280218120718686026"
     },
     "user_tz": -300
    },
    "id": "vP3A1De6sdlY",
    "outputId": "e0deacc7-6628-4614-de8d-a60d1add70b5"
   },
   "outputs": [
    {
     "data": {
      "text/html": [
       "<div>\n",
       "<style scoped>\n",
       "    .dataframe tbody tr th:only-of-type {\n",
       "        vertical-align: middle;\n",
       "    }\n",
       "\n",
       "    .dataframe tbody tr th {\n",
       "        vertical-align: top;\n",
       "    }\n",
       "\n",
       "    .dataframe thead th {\n",
       "        text-align: right;\n",
       "    }\n",
       "</style>\n",
       "<table border=\"1\" class=\"dataframe\">\n",
       "  <thead>\n",
       "    <tr style=\"text-align: right;\">\n",
       "      <th></th>\n",
       "      <th>Order ID</th>\n",
       "      <th>Customer ID</th>\n",
       "      <th>Category</th>\n",
       "      <th>Item</th>\n",
       "      <th>Price</th>\n",
       "      <th>Quantity</th>\n",
       "      <th>Order Total</th>\n",
       "      <th>Order Date</th>\n",
       "      <th>Payment Method</th>\n",
       "    </tr>\n",
       "  </thead>\n",
       "  <tbody>\n",
       "    <tr>\n",
       "      <th>15773</th>\n",
       "      <td>ORD_498830</td>\n",
       "      <td>CUST_022</td>\n",
       "      <td>Desserts</td>\n",
       "      <td>Chocolate Cake</td>\n",
       "      <td>6.0</td>\n",
       "      <td>5.0</td>\n",
       "      <td>30.0</td>\n",
       "      <td>2022-02-01</td>\n",
       "      <td>Credit Card</td>\n",
       "    </tr>\n",
       "    <tr>\n",
       "      <th>800</th>\n",
       "      <td>ORD_932458</td>\n",
       "      <td>CUST_054</td>\n",
       "      <td>Desserts</td>\n",
       "      <td>CHOCOLATE CAKE#</td>\n",
       "      <td>6.0</td>\n",
       "      <td>5.0</td>\n",
       "      <td>30.0</td>\n",
       "      <td>2023-10-09</td>\n",
       "      <td>Cash</td>\n",
       "    </tr>\n",
       "    <tr>\n",
       "      <th>17406</th>\n",
       "      <td>ORD_240931</td>\n",
       "      <td>CUST_014</td>\n",
       "      <td>Starters</td>\n",
       "      <td>Beef Chili</td>\n",
       "      <td>7.0</td>\n",
       "      <td>5.0</td>\n",
       "      <td>35.0</td>\n",
       "      <td>2022-03-23</td>\n",
       "      <td>Cash</td>\n",
       "    </tr>\n",
       "    <tr>\n",
       "      <th>13322</th>\n",
       "      <td>ORD_163521</td>\n",
       "      <td>CUST_021</td>\n",
       "      <td>Starters</td>\n",
       "      <td>Nachos Grande</td>\n",
       "      <td>10.0</td>\n",
       "      <td>4.0</td>\n",
       "      <td>40.0</td>\n",
       "      <td>2022-10-19</td>\n",
       "      <td>Cash</td>\n",
       "    </tr>\n",
       "    <tr>\n",
       "      <th>9840</th>\n",
       "      <td>ORD_344846</td>\n",
       "      <td>CUST_094</td>\n",
       "      <td>Starters</td>\n",
       "      <td>French Fries</td>\n",
       "      <td>4.0</td>\n",
       "      <td>1.0</td>\n",
       "      <td>4.0</td>\n",
       "      <td>2023-05-14</td>\n",
       "      <td>Credit Card</td>\n",
       "    </tr>\n",
       "    <tr>\n",
       "      <th>9909</th>\n",
       "      <td>ORD_680390</td>\n",
       "      <td>CUST_085</td>\n",
       "      <td>Main Dishes</td>\n",
       "      <td>Salmon</td>\n",
       "      <td>18.0</td>\n",
       "      <td>2.0</td>\n",
       "      <td>36.0</td>\n",
       "      <td>2022-02-01</td>\n",
       "      <td>Digital Wallet</td>\n",
       "    </tr>\n",
       "    <tr>\n",
       "      <th>13810</th>\n",
       "      <td>ORD_491145</td>\n",
       "      <td>CUST_094</td>\n",
       "      <td>Starters</td>\n",
       "      <td>Cheese Fries</td>\n",
       "      <td>5.0</td>\n",
       "      <td>5.0</td>\n",
       "      <td>25.0</td>\n",
       "      <td>2023-04-01</td>\n",
       "      <td>Digital Wallet</td>\n",
       "    </tr>\n",
       "    <tr>\n",
       "      <th>5316</th>\n",
       "      <td>ORD_976474</td>\n",
       "      <td>CUST_098</td>\n",
       "      <td>Starters</td>\n",
       "      <td>French Fries</td>\n",
       "      <td>4.0</td>\n",
       "      <td>1.0</td>\n",
       "      <td>4.0</td>\n",
       "      <td>2022-01-31</td>\n",
       "      <td>Credit Card</td>\n",
       "    </tr>\n",
       "    <tr>\n",
       "      <th>12645</th>\n",
       "      <td>ORD_442481</td>\n",
       "      <td>CUST_057</td>\n",
       "      <td>Desserts</td>\n",
       "      <td>Fruit Salad</td>\n",
       "      <td>4.0</td>\n",
       "      <td>2.0</td>\n",
       "      <td>8.0</td>\n",
       "      <td>2023-03-16</td>\n",
       "      <td>NaN</td>\n",
       "    </tr>\n",
       "    <tr>\n",
       "      <th>15484</th>\n",
       "      <td>ORD_301889</td>\n",
       "      <td>CUST_075</td>\n",
       "      <td>Side Dishes</td>\n",
       "      <td>NaN</td>\n",
       "      <td>-1.0</td>\n",
       "      <td>3.0</td>\n",
       "      <td>15.0</td>\n",
       "      <td>2022-06-01</td>\n",
       "      <td>NaN</td>\n",
       "    </tr>\n",
       "  </tbody>\n",
       "</table>\n",
       "</div>"
      ],
      "text/plain": [
       "         Order ID Customer ID     Category             Item  Price  Quantity  \\\n",
       "15773  ORD_498830    CUST_022     Desserts   Chocolate Cake    6.0       5.0   \n",
       "800    ORD_932458    CUST_054     Desserts  CHOCOLATE CAKE#    6.0       5.0   \n",
       "17406  ORD_240931    CUST_014     Starters       Beef Chili    7.0       5.0   \n",
       "13322  ORD_163521    CUST_021     Starters    Nachos Grande   10.0       4.0   \n",
       "9840   ORD_344846    CUST_094     Starters     French Fries    4.0       1.0   \n",
       "9909   ORD_680390    CUST_085  Main Dishes           Salmon   18.0       2.0   \n",
       "13810  ORD_491145    CUST_094     Starters     Cheese Fries    5.0       5.0   \n",
       "5316   ORD_976474    CUST_098     Starters     French Fries    4.0       1.0   \n",
       "12645  ORD_442481    CUST_057     Desserts      Fruit Salad    4.0       2.0   \n",
       "15484  ORD_301889    CUST_075  Side Dishes              NaN   -1.0       3.0   \n",
       "\n",
       "       Order Total Order Date  Payment Method  \n",
       "15773         30.0 2022-02-01     Credit Card  \n",
       "800           30.0 2023-10-09            Cash  \n",
       "17406         35.0 2022-03-23            Cash  \n",
       "13322         40.0 2022-10-19            Cash  \n",
       "9840           4.0 2023-05-14     Credit Card  \n",
       "9909          36.0 2022-02-01  Digital Wallet  \n",
       "13810         25.0 2023-04-01  Digital Wallet  \n",
       "5316           4.0 2022-01-31     Credit Card  \n",
       "12645          8.0 2023-03-16             NaN  \n",
       "15484         15.0 2022-06-01             NaN  "
      ]
     },
     "execution_count": 103,
     "metadata": {},
     "output_type": "execute_result"
    }
   ],
   "source": [
    "import pandas as pd\n",
    "import numpy as np\n",
    "\n",
    "url = \"https://raw.githubusercontent.com/alishermutalov/praktikum-datasets/refs/heads/praktikum/restaurant_sales.csv\"\n",
    "df = pd.read_csv(url, index_col=0, parse_dates=[\"Order Date\"])\n",
    "df.sample(10)"
   ]
  },
  {
   "cell_type": "markdown",
   "metadata": {
    "id": "KwaHmTOl9CyF"
   },
   "source": [
    "#2) Maʼlumotlarning umumiy holatini (info(), describe()) tekshiring."
   ]
  },
  {
   "cell_type": "code",
   "execution_count": 40,
   "metadata": {
    "id": "bz0TzYna8Eqo"
   },
   "outputs": [
    {
     "name": "stdout",
     "output_type": "stream",
     "text": [
      "<class 'pandas.core.frame.DataFrame'>\n",
      "Index: 17534 entries, 0 to 17533\n",
      "Data columns (total 9 columns):\n",
      " #   Column          Non-Null Count  Dtype         \n",
      "---  ------          --------------  -----         \n",
      " 0   Order ID        17534 non-null  object        \n",
      " 1   Customer ID     17534 non-null  object        \n",
      " 2   Category        17498 non-null  object        \n",
      " 3   Item            15776 non-null  object        \n",
      " 4   Price           17534 non-null  float64       \n",
      " 5   Quantity        17104 non-null  float64       \n",
      " 6   Order Total     17104 non-null  float64       \n",
      " 7   Order Date      17534 non-null  datetime64[ns]\n",
      " 8   Payment Method  16452 non-null  object        \n",
      "dtypes: datetime64[ns](1), float64(3), object(5)\n",
      "memory usage: 1.3+ MB\n"
     ]
    }
   ],
   "source": [
    "#javobni shu yerda yozing\n",
    "df.info()"
   ]
  },
  {
   "cell_type": "code",
   "execution_count": 41,
   "metadata": {},
   "outputs": [
    {
     "data": {
      "text/html": [
       "<div>\n",
       "<style scoped>\n",
       "    .dataframe tbody tr th:only-of-type {\n",
       "        vertical-align: middle;\n",
       "    }\n",
       "\n",
       "    .dataframe tbody tr th {\n",
       "        vertical-align: top;\n",
       "    }\n",
       "\n",
       "    .dataframe thead th {\n",
       "        text-align: right;\n",
       "    }\n",
       "</style>\n",
       "<table border=\"1\" class=\"dataframe\">\n",
       "  <thead>\n",
       "    <tr style=\"text-align: right;\">\n",
       "      <th></th>\n",
       "      <th>Price</th>\n",
       "      <th>Quantity</th>\n",
       "      <th>Order Total</th>\n",
       "      <th>Order Date</th>\n",
       "    </tr>\n",
       "  </thead>\n",
       "  <tbody>\n",
       "    <tr>\n",
       "      <th>count</th>\n",
       "      <td>17534.000000</td>\n",
       "      <td>17104.000000</td>\n",
       "      <td>17104.000000</td>\n",
       "      <td>17534</td>\n",
       "    </tr>\n",
       "    <tr>\n",
       "      <th>mean</th>\n",
       "      <td>6.207312</td>\n",
       "      <td>3.014149</td>\n",
       "      <td>19.914494</td>\n",
       "      <td>2022-12-28 15:19:09.355538176</td>\n",
       "    </tr>\n",
       "    <tr>\n",
       "      <th>min</th>\n",
       "      <td>-1.000000</td>\n",
       "      <td>1.000000</td>\n",
       "      <td>1.000000</td>\n",
       "      <td>2022-01-01 00:00:00</td>\n",
       "    </tr>\n",
       "    <tr>\n",
       "      <th>25%</th>\n",
       "      <td>3.000000</td>\n",
       "      <td>2.000000</td>\n",
       "      <td>7.500000</td>\n",
       "      <td>2022-06-30 00:00:00</td>\n",
       "    </tr>\n",
       "    <tr>\n",
       "      <th>50%</th>\n",
       "      <td>5.000000</td>\n",
       "      <td>3.000000</td>\n",
       "      <td>15.000000</td>\n",
       "      <td>2022-12-25 00:00:00</td>\n",
       "    </tr>\n",
       "    <tr>\n",
       "      <th>75%</th>\n",
       "      <td>7.000000</td>\n",
       "      <td>4.000000</td>\n",
       "      <td>25.000000</td>\n",
       "      <td>2023-06-29 00:00:00</td>\n",
       "    </tr>\n",
       "    <tr>\n",
       "      <th>max</th>\n",
       "      <td>20.000000</td>\n",
       "      <td>5.000000</td>\n",
       "      <td>100.000000</td>\n",
       "      <td>2023-12-31 00:00:00</td>\n",
       "    </tr>\n",
       "    <tr>\n",
       "      <th>std</th>\n",
       "      <td>4.993782</td>\n",
       "      <td>1.414598</td>\n",
       "      <td>18.732549</td>\n",
       "      <td>NaN</td>\n",
       "    </tr>\n",
       "  </tbody>\n",
       "</table>\n",
       "</div>"
      ],
      "text/plain": [
       "              Price      Quantity   Order Total                     Order Date\n",
       "count  17534.000000  17104.000000  17104.000000                          17534\n",
       "mean       6.207312      3.014149     19.914494  2022-12-28 15:19:09.355538176\n",
       "min       -1.000000      1.000000      1.000000            2022-01-01 00:00:00\n",
       "25%        3.000000      2.000000      7.500000            2022-06-30 00:00:00\n",
       "50%        5.000000      3.000000     15.000000            2022-12-25 00:00:00\n",
       "75%        7.000000      4.000000     25.000000            2023-06-29 00:00:00\n",
       "max       20.000000      5.000000    100.000000            2023-12-31 00:00:00\n",
       "std        4.993782      1.414598     18.732549                            NaN"
      ]
     },
     "execution_count": 41,
     "metadata": {},
     "output_type": "execute_result"
    }
   ],
   "source": [
    "df.describe()"
   ]
  },
  {
   "cell_type": "markdown",
   "metadata": {
    "id": "xGW7RLaU9Vju"
   },
   "source": [
    "#3) Har bir ustundagi boʻsh qiymatlarni aniqlang va ularni toʻldirish strategiyasini ishlab chiqing."
   ]
  },
  {
   "cell_type": "code",
   "execution_count": 42,
   "metadata": {},
   "outputs": [
    {
     "data": {
      "text/plain": [
       "Payment Method\n",
       "Credit Card       5504\n",
       "Cash              5499\n",
       "Digital Wallet    5449\n",
       "Name: count, dtype: int64"
      ]
     },
     "execution_count": 42,
     "metadata": {},
     "output_type": "execute_result"
    }
   ],
   "source": [
    "df['Payment Method'].value_counts()"
   ]
  },
  {
   "cell_type": "code",
   "execution_count": 104,
   "metadata": {
    "id": "aLRD_Ehz9SWE"
   },
   "outputs": [
    {
     "name": "stdout",
     "output_type": "stream",
     "text": [
      "<class 'pandas.core.frame.DataFrame'>\n",
      "Index: 15221 entries, 1 to 17532\n",
      "Data columns (total 9 columns):\n",
      " #   Column          Non-Null Count  Dtype         \n",
      "---  ------          --------------  -----         \n",
      " 0   Order ID        15221 non-null  object        \n",
      " 1   Customer ID     15221 non-null  object        \n",
      " 2   Category        15221 non-null  object        \n",
      " 3   Item            15221 non-null  object        \n",
      " 4   Price           15221 non-null  float64       \n",
      " 5   Quantity        15221 non-null  float64       \n",
      " 6   Order Total     15221 non-null  float64       \n",
      " 7   Order Date      15221 non-null  datetime64[ns]\n",
      " 8   Payment Method  15221 non-null  object        \n",
      "dtypes: datetime64[ns](1), float64(3), object(5)\n",
      "memory usage: 1.2+ MB\n"
     ]
    },
    {
     "name": "stderr",
     "output_type": "stream",
     "text": [
      "/tmp/ipykernel_7682/1420575793.py:3: FutureWarning: A value is trying to be set on a copy of a DataFrame or Series through chained assignment using an inplace method.\n",
      "The behavior will change in pandas 3.0. This inplace method will never work because the intermediate object on which we are setting values always behaves as a copy.\n",
      "\n",
      "For example, when doing 'df[col].method(value, inplace=True)', try using 'df.method({col: value}, inplace=True)' or df[col] = df[col].method(value) instead, to perform the operation inplace on the original object.\n",
      "\n",
      "\n",
      "  df.Quantity.fillna(method=\"ffill\", inplace=True)\n",
      "/tmp/ipykernel_7682/1420575793.py:3: FutureWarning: Series.fillna with 'method' is deprecated and will raise in a future version. Use obj.ffill() or obj.bfill() instead.\n",
      "  df.Quantity.fillna(method=\"ffill\", inplace=True)\n",
      "/tmp/ipykernel_7682/1420575793.py:4: FutureWarning: A value is trying to be set on a copy of a DataFrame or Series through chained assignment using an inplace method.\n",
      "The behavior will change in pandas 3.0. This inplace method will never work because the intermediate object on which we are setting values always behaves as a copy.\n",
      "\n",
      "For example, when doing 'df[col].method(value, inplace=True)', try using 'df.method({col: value}, inplace=True)' or df[col] = df[col].method(value) instead, to perform the operation inplace on the original object.\n",
      "\n",
      "\n",
      "  df[\"Order Total\"].fillna(np.mean(df['Order Total']), inplace=True)\n"
     ]
    }
   ],
   "source": [
    "#javobni shu yerda yozing\n",
    "df.dropna(subset=[\"Category\", \"Item\", \"Payment Method\"], inplace=True)  # Hamma NaNlarni o'chirishimdan maqsad bu ustunlarda qiymatlar har bitta mijoz uchun o'ziga xos bo'ladi\n",
    "df.Quantity.fillna(method=\"ffill\", inplace=True)\n",
    "df[\"Order Total\"].fillna(np.mean(df['Order Total']), inplace=True)\n",
    "df.info()\n"
   ]
  },
  {
   "cell_type": "markdown",
   "metadata": {
    "id": "DuXQUURbAqjz"
   },
   "source": [
    "#4) Har bir ustundagi takroriy qiymatlarni toping va ularga qanday oʻzgartirish kiritish kerakligini hal qiling."
   ]
  },
  {
   "cell_type": "code",
   "execution_count": 105,
   "metadata": {},
   "outputs": [
    {
     "data": {
      "text/html": [
       "<div>\n",
       "<style scoped>\n",
       "    .dataframe tbody tr th:only-of-type {\n",
       "        vertical-align: middle;\n",
       "    }\n",
       "\n",
       "    .dataframe tbody tr th {\n",
       "        vertical-align: top;\n",
       "    }\n",
       "\n",
       "    .dataframe thead th {\n",
       "        text-align: right;\n",
       "    }\n",
       "</style>\n",
       "<table border=\"1\" class=\"dataframe\">\n",
       "  <thead>\n",
       "    <tr style=\"text-align: right;\">\n",
       "      <th></th>\n",
       "      <th>Order ID</th>\n",
       "      <th>Customer ID</th>\n",
       "      <th>Category</th>\n",
       "      <th>Item</th>\n",
       "      <th>Price</th>\n",
       "      <th>Quantity</th>\n",
       "      <th>Order Total</th>\n",
       "      <th>Order Date</th>\n",
       "      <th>Payment Method</th>\n",
       "    </tr>\n",
       "  </thead>\n",
       "  <tbody>\n",
       "    <tr>\n",
       "      <th>1</th>\n",
       "      <td>ORD_338528</td>\n",
       "      <td>CUST_021</td>\n",
       "      <td>Side Dishes</td>\n",
       "      <td>Mashed Potatoes</td>\n",
       "      <td>4.0</td>\n",
       "      <td>3.0</td>\n",
       "      <td>12.0</td>\n",
       "      <td>2023-05-19</td>\n",
       "      <td>Digital Wallet</td>\n",
       "    </tr>\n",
       "    <tr>\n",
       "      <th>2</th>\n",
       "      <td>ORD_443849</td>\n",
       "      <td>CUST_029</td>\n",
       "      <td>Main Dishes</td>\n",
       "      <td>Grilled Chicken</td>\n",
       "      <td>15.0</td>\n",
       "      <td>4.0</td>\n",
       "      <td>60.0</td>\n",
       "      <td>2023-09-27</td>\n",
       "      <td>Credit Card</td>\n",
       "    </tr>\n",
       "    <tr>\n",
       "      <th>4</th>\n",
       "      <td>ORD_648269</td>\n",
       "      <td>CUST_031</td>\n",
       "      <td>Main Dishes</td>\n",
       "      <td>Pasta Alfredo</td>\n",
       "      <td>12.0</td>\n",
       "      <td>4.0</td>\n",
       "      <td>48.0</td>\n",
       "      <td>2022-05-15</td>\n",
       "      <td>Cash</td>\n",
       "    </tr>\n",
       "    <tr>\n",
       "      <th>5</th>\n",
       "      <td>ORD_381680</td>\n",
       "      <td>CUST_031</td>\n",
       "      <td>Main Dishes</td>\n",
       "      <td>Salmon</td>\n",
       "      <td>18.0</td>\n",
       "      <td>5.0</td>\n",
       "      <td>90.0</td>\n",
       "      <td>2022-07-20</td>\n",
       "      <td>Digital Wallet</td>\n",
       "    </tr>\n",
       "    <tr>\n",
       "      <th>6</th>\n",
       "      <td>ORD_270994</td>\n",
       "      <td>CUST_071</td>\n",
       "      <td>Side Dishes</td>\n",
       "      <td>Garlic Bread</td>\n",
       "      <td>4.0</td>\n",
       "      <td>5.0</td>\n",
       "      <td>20.0</td>\n",
       "      <td>2022-08-19</td>\n",
       "      <td>Credit Card</td>\n",
       "    </tr>\n",
       "  </tbody>\n",
       "</table>\n",
       "</div>"
      ],
      "text/plain": [
       "     Order ID Customer ID     Category             Item  Price  Quantity  \\\n",
       "1  ORD_338528    CUST_021  Side Dishes  Mashed Potatoes    4.0       3.0   \n",
       "2  ORD_443849    CUST_029  Main Dishes  Grilled Chicken   15.0       4.0   \n",
       "4  ORD_648269    CUST_031  Main Dishes    Pasta Alfredo   12.0       4.0   \n",
       "5  ORD_381680    CUST_031  Main Dishes           Salmon   18.0       5.0   \n",
       "6  ORD_270994    CUST_071  Side Dishes     Garlic Bread    4.0       5.0   \n",
       "\n",
       "   Order Total Order Date  Payment Method  \n",
       "1         12.0 2023-05-19  Digital Wallet  \n",
       "2         60.0 2023-09-27     Credit Card  \n",
       "4         48.0 2022-05-15            Cash  \n",
       "5         90.0 2022-07-20  Digital Wallet  \n",
       "6         20.0 2022-08-19     Credit Card  "
      ]
     },
     "execution_count": 105,
     "metadata": {},
     "output_type": "execute_result"
    }
   ],
   "source": [
    "df.head()"
   ]
  },
  {
   "cell_type": "code",
   "execution_count": 106,
   "metadata": {},
   "outputs": [
    {
     "data": {
      "text/plain": [
       "np.int64(0)"
      ]
     },
     "execution_count": 106,
     "metadata": {},
     "output_type": "execute_result"
    }
   ],
   "source": [
    "#javobni shu yerda yozing\n",
    "df.duplicated().sum()     \n",
    "# DataFrameda faqat Order Id bo'yicha bo'yicha takroriy qiymatlar bo'lishi tekshirilishi kerak, chunki Order Id har bir buyurtma uchun o'ziga xos bo'ladi.\n",
    "# Qolgan ustunlarda qiymatlar takrorlangan bo'lsa ham, bu buyurtma uchun bir xil mahsulotlar yoki xizmatlar bo'lishi mumkin."
   ]
  },
  {
   "cell_type": "markdown",
   "metadata": {
    "id": "fbRCQr33BQO7"
   },
   "source": [
    "#5) Maʼlumotlar toʻplamidagi noto‘g‘ri maʼlumotlar (masalan, son turishi kerak bo‘lgan ustunda matn bo‘lsa) mavjudligini tekshiring va to‘g‘rilang."
   ]
  },
  {
   "cell_type": "code",
   "execution_count": 107,
   "metadata": {
    "id": "qgZBkN8SBXuJ"
   },
   "outputs": [],
   "source": [
    "#javobni shu yerda yozing   \n",
    "# Umumiy qatorlar soni 15221 ta \n",
    "numeric_columns = ['Price', 'Quantity', 'Order Total'] \n",
    "for col in numeric_columns:\n",
    "    df[col] = df[col].astype(str)\n",
    "\n",
    "    df[col] = pd.to_numeric(df[col], errors=\"coerce\")\n",
    "\n",
    "for col in numeric_columns:\n",
    "    \n",
    "    num_na = df[col].isna().sum()\n",
    "    if num_na>0:\n",
    "        print(f\"{col} ustunida {num_na} ta nan qiymatlar bor\")\n"
   ]
  },
  {
   "cell_type": "code",
   "execution_count": 108,
   "metadata": {},
   "outputs": [
    {
     "name": "stdout",
     "output_type": "stream",
     "text": [
      "<class 'pandas.core.frame.DataFrame'>\n",
      "Index: 15221 entries, 1 to 17532\n",
      "Data columns (total 9 columns):\n",
      " #   Column          Non-Null Count  Dtype         \n",
      "---  ------          --------------  -----         \n",
      " 0   Order ID        15221 non-null  object        \n",
      " 1   Customer ID     15221 non-null  object        \n",
      " 2   Category        15221 non-null  object        \n",
      " 3   Item            15221 non-null  object        \n",
      " 4   Price           15221 non-null  float64       \n",
      " 5   Quantity        15221 non-null  float64       \n",
      " 6   Order Total     15221 non-null  float64       \n",
      " 7   Order Date      15221 non-null  datetime64[ns]\n",
      " 8   Payment Method  15221 non-null  object        \n",
      "dtypes: datetime64[ns](1), float64(3), object(5)\n",
      "memory usage: 1.2+ MB\n"
     ]
    }
   ],
   "source": [
    "df[\"Quantity\"].dropna(inplace=True)\n",
    "df.info()"
   ]
  },
  {
   "cell_type": "markdown",
   "metadata": {
    "id": "6MIfB4zZBck6"
   },
   "source": [
    "#6) Maʼlumotlar toʻplamidagi **katta/kichik harf** muammolari boʻlgan joylarni toping va bir xil formatga keltiring."
   ]
  },
  {
   "cell_type": "code",
   "execution_count": 109,
   "metadata": {
    "id": "I1rU6jDGBrvB"
   },
   "outputs": [],
   "source": [
    "#javobni shu yerda yozing\n",
    "str_columns = [\"Customer ID\", \"Category\", \"Item\", \"Payment Method\"]\n",
    "df[str_columns] = df[str_columns].map(lambda x: x.lower() if isinstance(x, str) else x)"
   ]
  },
  {
   "cell_type": "code",
   "execution_count": 110,
   "metadata": {},
   "outputs": [
    {
     "data": {
      "text/html": [
       "<div>\n",
       "<style scoped>\n",
       "    .dataframe tbody tr th:only-of-type {\n",
       "        vertical-align: middle;\n",
       "    }\n",
       "\n",
       "    .dataframe tbody tr th {\n",
       "        vertical-align: top;\n",
       "    }\n",
       "\n",
       "    .dataframe thead th {\n",
       "        text-align: right;\n",
       "    }\n",
       "</style>\n",
       "<table border=\"1\" class=\"dataframe\">\n",
       "  <thead>\n",
       "    <tr style=\"text-align: right;\">\n",
       "      <th></th>\n",
       "      <th>Order ID</th>\n",
       "      <th>Customer ID</th>\n",
       "      <th>Category</th>\n",
       "      <th>Item</th>\n",
       "      <th>Price</th>\n",
       "      <th>Quantity</th>\n",
       "      <th>Order Total</th>\n",
       "      <th>Order Date</th>\n",
       "      <th>Payment Method</th>\n",
       "    </tr>\n",
       "  </thead>\n",
       "  <tbody>\n",
       "    <tr>\n",
       "      <th>9463</th>\n",
       "      <td>ORD_711051</td>\n",
       "      <td>Cust_006</td>\n",
       "      <td>Side dishes</td>\n",
       "      <td>Mashed potatoes</td>\n",
       "      <td>4.0</td>\n",
       "      <td>1.0</td>\n",
       "      <td>4.0</td>\n",
       "      <td>2022-09-18</td>\n",
       "      <td>Credit card</td>\n",
       "    </tr>\n",
       "    <tr>\n",
       "      <th>11624</th>\n",
       "      <td>ORD_876828</td>\n",
       "      <td>Cust_093</td>\n",
       "      <td>Starters</td>\n",
       "      <td>Cheese fries</td>\n",
       "      <td>5.0</td>\n",
       "      <td>3.0</td>\n",
       "      <td>15.0</td>\n",
       "      <td>2022-04-14</td>\n",
       "      <td>Digital wallet</td>\n",
       "    </tr>\n",
       "    <tr>\n",
       "      <th>16945</th>\n",
       "      <td>ORD_630504</td>\n",
       "      <td>Cust_032</td>\n",
       "      <td>Starters</td>\n",
       "      <td>Chicken melt</td>\n",
       "      <td>8.0</td>\n",
       "      <td>3.0</td>\n",
       "      <td>24.0</td>\n",
       "      <td>2023-11-17</td>\n",
       "      <td>Cash</td>\n",
       "    </tr>\n",
       "    <tr>\n",
       "      <th>10905</th>\n",
       "      <td>ORD_863259</td>\n",
       "      <td>Cust_038</td>\n",
       "      <td>Drinks</td>\n",
       "      <td>Coca cola</td>\n",
       "      <td>2.5</td>\n",
       "      <td>2.0</td>\n",
       "      <td>5.0</td>\n",
       "      <td>2023-08-27</td>\n",
       "      <td>Credit card</td>\n",
       "    </tr>\n",
       "    <tr>\n",
       "      <th>4990</th>\n",
       "      <td>ORD_360395</td>\n",
       "      <td>Cust_025</td>\n",
       "      <td>Drinks</td>\n",
       "      <td>Coca cola</td>\n",
       "      <td>2.5</td>\n",
       "      <td>1.0</td>\n",
       "      <td>2.5</td>\n",
       "      <td>2023-06-12</td>\n",
       "      <td>Cash</td>\n",
       "    </tr>\n",
       "  </tbody>\n",
       "</table>\n",
       "</div>"
      ],
      "text/plain": [
       "         Order ID Customer ID     Category             Item  Price  Quantity  \\\n",
       "9463   ORD_711051    Cust_006  Side dishes  Mashed potatoes    4.0       1.0   \n",
       "11624  ORD_876828    Cust_093     Starters     Cheese fries    5.0       3.0   \n",
       "16945  ORD_630504    Cust_032     Starters     Chicken melt    8.0       3.0   \n",
       "10905  ORD_863259    Cust_038       Drinks        Coca cola    2.5       2.0   \n",
       "4990   ORD_360395    Cust_025       Drinks        Coca cola    2.5       1.0   \n",
       "\n",
       "       Order Total Order Date  Payment Method  \n",
       "9463           4.0 2022-09-18     Credit card  \n",
       "11624         15.0 2022-04-14  Digital wallet  \n",
       "16945         24.0 2023-11-17            Cash  \n",
       "10905          5.0 2023-08-27     Credit card  \n",
       "4990           2.5 2023-06-12            Cash  "
      ]
     },
     "execution_count": 110,
     "metadata": {},
     "output_type": "execute_result"
    }
   ],
   "source": [
    "df[str_columns] = df[str_columns].map(lambda x:x.capitalize() if isinstance(x, str) else x)\n",
    "df.sample(5)"
   ]
  },
  {
   "cell_type": "markdown",
   "metadata": {
    "id": "iYViqvgcBtIr"
   },
   "source": [
    "#7) Maʼlumotlar turini oʻzgartirish.\n",
    " * Ustunlarning maʼlumot turlarini tekshiring. Notoʻgʻri turlarga ega boʻlgan ustunlarni toʻgʻri formatga oʻtkazing.\n",
    " * `order_date` yoki unga oʻxshash ustunni datetime formatiga oʻtkazing."
   ]
  },
  {
   "cell_type": "code",
   "execution_count": 111,
   "metadata": {
    "id": "B0jtd7GwCg80"
   },
   "outputs": [
    {
     "name": "stdout",
     "output_type": "stream",
     "text": [
      "<class 'pandas.core.frame.DataFrame'>\n",
      "Index: 15221 entries, 1 to 17532\n",
      "Data columns (total 9 columns):\n",
      " #   Column          Non-Null Count  Dtype         \n",
      "---  ------          --------------  -----         \n",
      " 0   Order ID        15221 non-null  object        \n",
      " 1   Customer ID     15221 non-null  object        \n",
      " 2   Category        15221 non-null  object        \n",
      " 3   Item            15221 non-null  object        \n",
      " 4   Price           15221 non-null  float64       \n",
      " 5   Quantity        15221 non-null  float64       \n",
      " 6   Order Total     15221 non-null  float64       \n",
      " 7   Order Date      15221 non-null  datetime64[ns]\n",
      " 8   Payment Method  15221 non-null  object        \n",
      "dtypes: datetime64[ns](1), float64(3), object(5)\n",
      "memory usage: 1.2+ MB\n"
     ]
    }
   ],
   "source": [
    "#javobni shu yerda yozing\n",
    "df.info()\n",
    "\n",
    "# order_date ustun dataframe birinchi chaqirilgan paytda o'tkazilgan"
   ]
  },
  {
   "cell_type": "markdown",
   "metadata": {
    "id": "5KxCddT2CjOD"
   },
   "source": [
    "#8) Mahsulot nomlarida noto‘g‘ri yoki nomaʼlum belgilar (?, NaN, #) mavjudligini tekshiring va ularni tuzating."
   ]
  },
  {
   "cell_type": "code",
   "execution_count": 112,
   "metadata": {
    "id": "CE_0p3sfCwRY",
    "notebookRunGroups": {
     "groupValue": "2"
    }
   },
   "outputs": [
    {
     "name": "stdout",
     "output_type": "stream",
     "text": [
      "0\n",
      "0\n",
      "122\n",
      "0\n"
     ]
    }
   ],
   "source": [
    "#javobni shu yerda yozing\n",
    "for col in str_columns:\n",
    "\n",
    "    n = df[col].str.contains(\"#\").sum()\n",
    "    print(n)\n"
   ]
  },
  {
   "cell_type": "code",
   "execution_count": 113,
   "metadata": {},
   "outputs": [
    {
     "name": "stdout",
     "output_type": "stream",
     "text": [
      "0\n",
      "0\n",
      "0\n",
      "0\n"
     ]
    }
   ],
   "source": [
    "df[\"Item\"] = df[\"Item\"].str.replace(\"#\",\"\")\n",
    "\n",
    "for col in str_columns:\n",
    "\n",
    "    n = df[col].str.contains(\"#\").sum()\n",
    "    print(n)\n"
   ]
  },
  {
   "cell_type": "markdown",
   "metadata": {
    "id": "-5uDXOiIDZeG"
   },
   "source": [
    "#**Maʼlumotlarni filtrlash va qayta ishlash**"
   ]
  },
  {
   "cell_type": "markdown",
   "metadata": {
    "id": "TU0D2kyFDxIL"
   },
   "source": [
    "#9) Manfiy narx yoki 0 ga teng narx qiymatlarini toping va ularni qanday oʻzgartirish kerakligini hal qiling."
   ]
  },
  {
   "cell_type": "code",
   "execution_count": 114,
   "metadata": {
    "id": "QO8GxDGmEG8n"
   },
   "outputs": [
    {
     "name": "stdout",
     "output_type": "stream",
     "text": [
      "0\n"
     ]
    }
   ],
   "source": [
    "#javobni shu yerda yozing\n",
    "n = 0\n",
    "for a in df[numeric_columns].values.tolist():\n",
    "    if a == 0:\n",
    "        n+=1\n",
    "print(n)\n"
   ]
  },
  {
   "cell_type": "markdown",
   "metadata": {
    "id": "ctW9mQEzHRwE"
   },
   "source": [
    "#10) Boʻsh toifalar (kategoriya) mavjudligini tekshiring va toʻgʻri kategoriya berish strategiyasini ishlab chiqing."
   ]
  },
  {
   "cell_type": "code",
   "execution_count": 116,
   "metadata": {
    "id": "xjZ7EK3SHZJ_"
   },
   "outputs": [
    {
     "data": {
      "text/plain": [
       "np.int64(0)"
      ]
     },
     "execution_count": 116,
     "metadata": {},
     "output_type": "execute_result"
    }
   ],
   "source": [
    "#javobni shu yerda yozing\n",
    "df.Category.isnull().sum()\n",
    "df['Category'].apply(lambda x: pd.isna(x) or x.strip() == '').sum()\n"
   ]
  },
  {
   "cell_type": "markdown",
   "metadata": {
    "id": "fwB59uGdH_bX"
   },
   "source": [
    "#11) Bir xil, lekin turlicha yozilgan qiymatlar (Coffee, cofee, COFEE) mavjudligini tekshiring va tuzating."
   ]
  },
  {
   "cell_type": "code",
   "execution_count": 55,
   "metadata": {
    "id": "VUXL1AKhISvX"
   },
   "outputs": [],
   "source": [
    "#javobni shu yerda yozing\n",
    "# str_columns = [\"Customer ID\", \"Category\", \"Item\", \"Payment Method\"]\n",
    "# df[str_columns] = df[str_columns].map(lambda x: x.lower() if isinstance(x, str) else x)   oldingi cellda ishlatdim\n"
   ]
  },
  {
   "cell_type": "markdown",
   "metadata": {
    "id": "VnU6WJI5KiKd"
   },
   "source": [
    "#12) `Customer ID` yoki boshqa identifikatorlarning takrorlanishini tekshiring."
   ]
  },
  {
   "cell_type": "code",
   "execution_count": 56,
   "metadata": {
    "id": "rOhrI-2cLFbi"
   },
   "outputs": [
    {
     "name": "stdout",
     "output_type": "stream",
     "text": [
      "0\n"
     ]
    }
   ],
   "source": [
    "#javobni shu yerda yozing\n",
    "ids =['Order ID']\n",
    "for id in ids:\n",
    "    num_dup = df[id].duplicated().sum()\n",
    "    print(num_dup)"
   ]
  },
  {
   "cell_type": "markdown",
   "metadata": {},
   "source": [
    "\"Customer ID\" ustunida qiymatlar takrorlanishi mumkin"
   ]
  },
  {
   "cell_type": "code",
   "execution_count": 57,
   "metadata": {},
   "outputs": [
    {
     "name": "stdout",
     "output_type": "stream",
     "text": [
      "163\n"
     ]
    }
   ],
   "source": [
    "n = 0\n",
    "for a in df[\"Customer ID\"]:\n",
    "    if a==\"Cust_021\":\n",
    "        n+=1\n",
    "print(n)\n"
   ]
  },
  {
   "cell_type": "markdown",
   "metadata": {
    "id": "qoVSr-H8LGxq"
   },
   "source": [
    "#13) Mahsulotning ortiqcha taʼriflarini olib tashlang (Water (0.5), Water (1.0), Water → faqat Water qoldirish)."
   ]
  },
  {
   "cell_type": "code",
   "execution_count": 90,
   "metadata": {
    "id": "FXiEr3fiLR3R"
   },
   "outputs": [
    {
     "data": {
      "text/html": [
       "<div>\n",
       "<style scoped>\n",
       "    .dataframe tbody tr th:only-of-type {\n",
       "        vertical-align: middle;\n",
       "    }\n",
       "\n",
       "    .dataframe tbody tr th {\n",
       "        vertical-align: top;\n",
       "    }\n",
       "\n",
       "    .dataframe thead th {\n",
       "        text-align: right;\n",
       "    }\n",
       "</style>\n",
       "<table border=\"1\" class=\"dataframe\">\n",
       "  <thead>\n",
       "    <tr style=\"text-align: right;\">\n",
       "      <th></th>\n",
       "      <th>Order ID</th>\n",
       "      <th>Customer ID</th>\n",
       "      <th>Category</th>\n",
       "      <th>Item</th>\n",
       "      <th>Price</th>\n",
       "      <th>Quantity</th>\n",
       "      <th>Order Total</th>\n",
       "      <th>Order Date</th>\n",
       "      <th>Payment Method</th>\n",
       "    </tr>\n",
       "  </thead>\n",
       "  <tbody>\n",
       "    <tr>\n",
       "      <th>12536</th>\n",
       "      <td>ORD_102708</td>\n",
       "      <td>Cust_020</td>\n",
       "      <td>Main dishes</td>\n",
       "      <td>Pasta alfredo</td>\n",
       "      <td>12.0</td>\n",
       "      <td>5.0</td>\n",
       "      <td>60.0</td>\n",
       "      <td>2023-06-25</td>\n",
       "      <td>Cash</td>\n",
       "    </tr>\n",
       "    <tr>\n",
       "      <th>10764</th>\n",
       "      <td>ORD_273388</td>\n",
       "      <td>Cust_100</td>\n",
       "      <td>Side dishes</td>\n",
       "      <td>Grilled vegetables</td>\n",
       "      <td>5.0</td>\n",
       "      <td>1.0</td>\n",
       "      <td>5.0</td>\n",
       "      <td>2023-08-03</td>\n",
       "      <td>Digital wallet</td>\n",
       "    </tr>\n",
       "    <tr>\n",
       "      <th>11904</th>\n",
       "      <td>ORD_186709</td>\n",
       "      <td>Cust_031</td>\n",
       "      <td>Side dishes</td>\n",
       "      <td>Grilled vegetables</td>\n",
       "      <td>5.0</td>\n",
       "      <td>2.0</td>\n",
       "      <td>10.0</td>\n",
       "      <td>2023-05-04</td>\n",
       "      <td>Credit card</td>\n",
       "    </tr>\n",
       "    <tr>\n",
       "      <th>9975</th>\n",
       "      <td>ORD_433027</td>\n",
       "      <td>Cust_002</td>\n",
       "      <td>Side dishes</td>\n",
       "      <td>Side salad</td>\n",
       "      <td>3.0</td>\n",
       "      <td>4.0</td>\n",
       "      <td>12.0</td>\n",
       "      <td>2023-06-23</td>\n",
       "      <td>Credit card</td>\n",
       "    </tr>\n",
       "    <tr>\n",
       "      <th>14263</th>\n",
       "      <td>ORD_341370</td>\n",
       "      <td>Cust_028</td>\n",
       "      <td>Side dishes</td>\n",
       "      <td>Mashed potatoes</td>\n",
       "      <td>4.0</td>\n",
       "      <td>5.0</td>\n",
       "      <td>20.0</td>\n",
       "      <td>2023-11-17</td>\n",
       "      <td>Credit card</td>\n",
       "    </tr>\n",
       "  </tbody>\n",
       "</table>\n",
       "</div>"
      ],
      "text/plain": [
       "         Order ID Customer ID     Category                Item  Price  \\\n",
       "12536  ORD_102708    Cust_020  Main dishes       Pasta alfredo   12.0   \n",
       "10764  ORD_273388    Cust_100  Side dishes  Grilled vegetables    5.0   \n",
       "11904  ORD_186709    Cust_031  Side dishes  Grilled vegetables    5.0   \n",
       "9975   ORD_433027    Cust_002  Side dishes          Side salad    3.0   \n",
       "14263  ORD_341370    Cust_028  Side dishes     Mashed potatoes    4.0   \n",
       "\n",
       "       Quantity  Order Total Order Date  Payment Method  \n",
       "12536       5.0         60.0 2023-06-25            Cash  \n",
       "10764       1.0          5.0 2023-08-03  Digital wallet  \n",
       "11904       2.0         10.0 2023-05-04     Credit card  \n",
       "9975        4.0         12.0 2023-06-23     Credit card  \n",
       "14263       5.0         20.0 2023-11-17     Credit card  "
      ]
     },
     "execution_count": 90,
     "metadata": {},
     "output_type": "execute_result"
    }
   ],
   "source": [
    "#javobni shu yerda yozing\n",
    "df[\"Item\"] = df[\"Item\"].str.replace(\"(0.5)\", \"\")\n",
    "df[\"Item\"] = df[\"Item\"].str.replace(\"?\", \"\")\n",
    "df[\"Item\"] = df[\"Item\"].str.replace(\"(1.0)\", \"\")\n",
    "df.sample(5)"
   ]
  },
  {
   "cell_type": "markdown",
   "metadata": {
    "id": "uQRzncvaSkv6"
   },
   "source": [
    "#**Qayta ishlangan maʼlumotlar bilan tahlil**"
   ]
  },
  {
   "cell_type": "markdown",
   "metadata": {
    "id": "bAV_IVP0SN6j"
   },
   "source": [
    "#14) Eng koʻp sotilgan 5 ta mahsulotni aniqlang."
   ]
  },
  {
   "cell_type": "code",
   "execution_count": 72,
   "metadata": {
    "id": "dA81q8p-R0mR"
   },
   "outputs": [
    {
     "name": "stdout",
     "output_type": "stream",
     "text": [
      "['Pasta alfredo', 'Side salad', 'Ice cream', 'Water ', 'French fries']\n"
     ]
    }
   ],
   "source": [
    "#javobni shu yerda yozing\n",
    "items = df.Item.value_counts().index\n",
    "n=0\n",
    "topt5_items = []\n",
    "for item in items:\n",
    "    topt5_items.append(item)\n",
    "    n+=1\n",
    "    if n==5:\n",
    "        break\n",
    "print(topt5_items)"
   ]
  },
  {
   "cell_type": "markdown",
   "metadata": {
    "id": "4GesRmeJSzAa"
   },
   "source": [
    "#15) Har bir mijoz oʻrtacha qancha pul sarflaganini hisoblang."
   ]
  },
  {
   "cell_type": "code",
   "execution_count": 73,
   "metadata": {
    "id": "vCshapSFS7xZ"
   },
   "outputs": [
    {
     "data": {
      "text/plain": [
       "Customer ID\n",
       "Cust_001    17.572848\n",
       "Cust_002    19.719355\n",
       "Cust_003    17.328571\n",
       "Cust_004    20.354167\n",
       "Cust_005    17.932143\n",
       "              ...    \n",
       "Cust_096    18.949704\n",
       "Cust_097    19.858896\n",
       "Cust_098    19.838608\n",
       "Cust_099    21.123288\n",
       "Cust_100    17.557803\n",
       "Name: Order Total, Length: 100, dtype: float64"
      ]
     },
     "execution_count": 73,
     "metadata": {},
     "output_type": "execute_result"
    }
   ],
   "source": [
    "#javobni shu yerda yozing\n",
    "df.groupby(\"Customer ID\")[\"Order Total\"].agg(lambda x: np.mean(x))"
   ]
  },
  {
   "cell_type": "markdown",
   "metadata": {
    "id": "qG0D7TBcS99v"
   },
   "source": [
    "#16) Mijozlarning qaysi kunlarda koʻproq xarid qilgani bo‘yicha tahlil qiling."
   ]
  },
  {
   "cell_type": "code",
   "execution_count": 85,
   "metadata": {
    "id": "rBu2WVyFTeZX"
   },
   "outputs": [
    {
     "data": {
      "text/plain": [
       "Order Date\n",
       "2022-04-02    31\n",
       "2023-08-22    31\n",
       "2023-05-28    30\n",
       "2022-08-03    30\n",
       "2023-11-25    29\n",
       "Name: Customer ID, dtype: int64"
      ]
     },
     "execution_count": 85,
     "metadata": {},
     "output_type": "execute_result"
    }
   ],
   "source": [
    "#javobni shu yerda yozing\n",
    "df_gp = df.groupby(\"Order Date\")[\"Customer ID\"].nunique().sort_values(ascending=False)\n",
    "df_gp.head(5)"
   ]
  },
  {
   "cell_type": "markdown",
   "metadata": {
    "id": "VIQ4pT7WTIRl"
   },
   "source": [
    "#17) Narxi oʻrtacha narxdan ikki barobar yuqori boʻlgan mahsulotlarni toping."
   ]
  },
  {
   "cell_type": "code",
   "execution_count": 62,
   "metadata": {
    "id": "njavH8XtTYR2"
   },
   "outputs": [
    {
     "data": {
      "text/plain": [
       "np.float64(6.597299783194271)"
      ]
     },
     "execution_count": 62,
     "metadata": {},
     "output_type": "execute_result"
    }
   ],
   "source": [
    "#javobni shu yerda yozing\n",
    "np.mean(df.Price)"
   ]
  },
  {
   "cell_type": "code",
   "execution_count": 63,
   "metadata": {},
   "outputs": [
    {
     "data": {
      "text/html": [
       "<div>\n",
       "<style scoped>\n",
       "    .dataframe tbody tr th:only-of-type {\n",
       "        vertical-align: middle;\n",
       "    }\n",
       "\n",
       "    .dataframe tbody tr th {\n",
       "        vertical-align: top;\n",
       "    }\n",
       "\n",
       "    .dataframe thead th {\n",
       "        text-align: right;\n",
       "    }\n",
       "</style>\n",
       "<table border=\"1\" class=\"dataframe\">\n",
       "  <thead>\n",
       "    <tr style=\"text-align: right;\">\n",
       "      <th></th>\n",
       "      <th>Order ID</th>\n",
       "      <th>Customer ID</th>\n",
       "      <th>Category</th>\n",
       "      <th>Item</th>\n",
       "      <th>Price</th>\n",
       "      <th>Quantity</th>\n",
       "      <th>Order Total</th>\n",
       "      <th>Order Date</th>\n",
       "      <th>Payment Method</th>\n",
       "    </tr>\n",
       "  </thead>\n",
       "  <tbody>\n",
       "    <tr>\n",
       "      <th>4</th>\n",
       "      <td>ORD_648269</td>\n",
       "      <td>Cust_031</td>\n",
       "      <td>Main dishes</td>\n",
       "      <td>Pasta alfredo</td>\n",
       "      <td>12.0</td>\n",
       "      <td>4.0</td>\n",
       "      <td>48.0</td>\n",
       "      <td>2022-05-15</td>\n",
       "      <td>Cash</td>\n",
       "    </tr>\n",
       "    <tr>\n",
       "      <th>29</th>\n",
       "      <td>ORD_647762</td>\n",
       "      <td>Cust_021</td>\n",
       "      <td>Main dishes</td>\n",
       "      <td>Pasta alfredo</td>\n",
       "      <td>12.0</td>\n",
       "      <td>1.0</td>\n",
       "      <td>12.0</td>\n",
       "      <td>2023-01-31</td>\n",
       "      <td>Credit card</td>\n",
       "    </tr>\n",
       "    <tr>\n",
       "      <th>38</th>\n",
       "      <td>ORD_893229</td>\n",
       "      <td>Cust_049</td>\n",
       "      <td>Main dishes</td>\n",
       "      <td>Pasta alfredo</td>\n",
       "      <td>12.0</td>\n",
       "      <td>2.0</td>\n",
       "      <td>24.0</td>\n",
       "      <td>2022-02-09</td>\n",
       "      <td>Cash</td>\n",
       "    </tr>\n",
       "    <tr>\n",
       "      <th>41</th>\n",
       "      <td>ORD_708630</td>\n",
       "      <td>Cust_081</td>\n",
       "      <td>Main dishes</td>\n",
       "      <td>Pasta alfredo</td>\n",
       "      <td>12.0</td>\n",
       "      <td>1.0</td>\n",
       "      <td>12.0</td>\n",
       "      <td>2023-07-21</td>\n",
       "      <td>Credit card</td>\n",
       "    </tr>\n",
       "    <tr>\n",
       "      <th>62</th>\n",
       "      <td>ORD_237978</td>\n",
       "      <td>Cust_007</td>\n",
       "      <td>Main dishes</td>\n",
       "      <td>Pasta alfredo</td>\n",
       "      <td>12.0</td>\n",
       "      <td>3.0</td>\n",
       "      <td>36.0</td>\n",
       "      <td>2022-12-07</td>\n",
       "      <td>Cash</td>\n",
       "    </tr>\n",
       "    <tr>\n",
       "      <th>...</th>\n",
       "      <td>...</td>\n",
       "      <td>...</td>\n",
       "      <td>...</td>\n",
       "      <td>...</td>\n",
       "      <td>...</td>\n",
       "      <td>...</td>\n",
       "      <td>...</td>\n",
       "      <td>...</td>\n",
       "      <td>...</td>\n",
       "    </tr>\n",
       "    <tr>\n",
       "      <th>17477</th>\n",
       "      <td>ORD_479200</td>\n",
       "      <td>Cust_019</td>\n",
       "      <td>Main dishes</td>\n",
       "      <td>Pasta alfredo</td>\n",
       "      <td>12.0</td>\n",
       "      <td>4.0</td>\n",
       "      <td>48.0</td>\n",
       "      <td>2022-12-31</td>\n",
       "      <td>Digital wallet</td>\n",
       "    </tr>\n",
       "    <tr>\n",
       "      <th>17501</th>\n",
       "      <td>ORD_283986</td>\n",
       "      <td>Cust_028</td>\n",
       "      <td>Main dishes</td>\n",
       "      <td>Pasta alfredo</td>\n",
       "      <td>12.0</td>\n",
       "      <td>5.0</td>\n",
       "      <td>60.0</td>\n",
       "      <td>2022-08-05</td>\n",
       "      <td>Credit card</td>\n",
       "    </tr>\n",
       "    <tr>\n",
       "      <th>17524</th>\n",
       "      <td>ORD_603601</td>\n",
       "      <td>Cust_083</td>\n",
       "      <td>Main dishes</td>\n",
       "      <td>Pasta alfredo</td>\n",
       "      <td>12.0</td>\n",
       "      <td>4.0</td>\n",
       "      <td>48.0</td>\n",
       "      <td>2022-11-08</td>\n",
       "      <td>Credit card</td>\n",
       "    </tr>\n",
       "    <tr>\n",
       "      <th>17525</th>\n",
       "      <td>ORD_326555</td>\n",
       "      <td>Cust_095</td>\n",
       "      <td>Main dishes</td>\n",
       "      <td>Pasta alfredo</td>\n",
       "      <td>12.0</td>\n",
       "      <td>3.0</td>\n",
       "      <td>36.0</td>\n",
       "      <td>2023-07-24</td>\n",
       "      <td>Digital wallet</td>\n",
       "    </tr>\n",
       "    <tr>\n",
       "      <th>17526</th>\n",
       "      <td>ORD_503140</td>\n",
       "      <td>Cust_094</td>\n",
       "      <td>Main dishes</td>\n",
       "      <td>Pasta alfredo</td>\n",
       "      <td>12.0</td>\n",
       "      <td>3.0</td>\n",
       "      <td>36.0</td>\n",
       "      <td>2023-04-10</td>\n",
       "      <td>Credit card</td>\n",
       "    </tr>\n",
       "  </tbody>\n",
       "</table>\n",
       "<p>954 rows × 9 columns</p>\n",
       "</div>"
      ],
      "text/plain": [
       "         Order ID Customer ID     Category           Item  Price  Quantity  \\\n",
       "4      ORD_648269    Cust_031  Main dishes  Pasta alfredo   12.0       4.0   \n",
       "29     ORD_647762    Cust_021  Main dishes  Pasta alfredo   12.0       1.0   \n",
       "38     ORD_893229    Cust_049  Main dishes  Pasta alfredo   12.0       2.0   \n",
       "41     ORD_708630    Cust_081  Main dishes  Pasta alfredo   12.0       1.0   \n",
       "62     ORD_237978    Cust_007  Main dishes  Pasta alfredo   12.0       3.0   \n",
       "...           ...         ...          ...            ...    ...       ...   \n",
       "17477  ORD_479200    Cust_019  Main dishes  Pasta alfredo   12.0       4.0   \n",
       "17501  ORD_283986    Cust_028  Main dishes  Pasta alfredo   12.0       5.0   \n",
       "17524  ORD_603601    Cust_083  Main dishes  Pasta alfredo   12.0       4.0   \n",
       "17525  ORD_326555    Cust_095  Main dishes  Pasta alfredo   12.0       3.0   \n",
       "17526  ORD_503140    Cust_094  Main dishes  Pasta alfredo   12.0       3.0   \n",
       "\n",
       "       Order Total Order Date  Payment Method  \n",
       "4             48.0 2022-05-15            Cash  \n",
       "29            12.0 2023-01-31     Credit card  \n",
       "38            24.0 2022-02-09            Cash  \n",
       "41            12.0 2023-07-21     Credit card  \n",
       "62            36.0 2022-12-07            Cash  \n",
       "...            ...        ...             ...  \n",
       "17477         48.0 2022-12-31  Digital wallet  \n",
       "17501         60.0 2022-08-05     Credit card  \n",
       "17524         48.0 2022-11-08     Credit card  \n",
       "17525         36.0 2023-07-24  Digital wallet  \n",
       "17526         36.0 2023-04-10     Credit card  \n",
       "\n",
       "[954 rows x 9 columns]"
      ]
     },
     "execution_count": 63,
     "metadata": {},
     "output_type": "execute_result"
    }
   ],
   "source": [
    "df[df[\"Price\"]==12.0]"
   ]
  },
  {
   "cell_type": "markdown",
   "metadata": {
    "id": "oNKPJK0rTa2b"
   },
   "source": [
    "#18) Mahsulotlar kategoriyalari bo‘yicha tahlil qiling va eng ko‘p sotiladigan kategoriyalarni aniqlang."
   ]
  },
  {
   "cell_type": "code",
   "execution_count": 91,
   "metadata": {
    "id": "NG2v1wYITlDQ"
   },
   "outputs": [
    {
     "data": {
      "text/plain": [
       "Item\n",
       "Beef chili            100\n",
       "Brownie               100\n",
       "Chocolate cake        100\n",
       "Chicken melt          100\n",
       "Grilled chicken       100\n",
       "Grilled vegetables    100\n",
       "French fries          100\n",
       "Water                 100\n",
       "Pasta alfredo         100\n",
       "Orange juice          100\n",
       "Mashed potatoes       100\n",
       "Ice cream             100\n",
       "Side salad            100\n",
       "Steak                 100\n",
       "Cheese fries           99\n",
       "Cheesecake             99\n",
       "Coca cola              99\n",
       "Fruit salad            99\n",
       "Sweet potato fries     99\n",
       "Vegetarian platter     98\n",
       "Salmon                 98\n",
       "Lemonade               97\n",
       "Onion rings            97\n",
       "Garlic bread           95\n",
       "Iced tea               93\n",
       "Nachos grande          90\n",
       "Water                  37\n",
       "Lemonade                6\n",
       "Name: Customer ID, dtype: int64"
      ]
     },
     "execution_count": 91,
     "metadata": {},
     "output_type": "execute_result"
    }
   ],
   "source": [
    "#javobni shu yerda yozing\n",
    "df.groupby(\"Item\")['Customer ID'].nunique().sort_values(ascending=False)"
   ]
  },
  {
   "cell_type": "markdown",
   "metadata": {
    "id": "1dvT1qFjTm5J"
   },
   "source": [
    "#19) Har bir mijozning oʻrtacha xarid miqdorini (`groupby(\"customer_id\")`) hisoblang."
   ]
  },
  {
   "cell_type": "code",
   "execution_count": 100,
   "metadata": {
    "id": "2-IMSwaJT1hr"
   },
   "outputs": [
    {
     "data": {
      "text/html": [
       "<div>\n",
       "<style scoped>\n",
       "    .dataframe tbody tr th:only-of-type {\n",
       "        vertical-align: middle;\n",
       "    }\n",
       "\n",
       "    .dataframe tbody tr th {\n",
       "        vertical-align: top;\n",
       "    }\n",
       "\n",
       "    .dataframe thead th {\n",
       "        text-align: right;\n",
       "    }\n",
       "</style>\n",
       "<table border=\"1\" class=\"dataframe\">\n",
       "  <thead>\n",
       "    <tr style=\"text-align: right;\">\n",
       "      <th></th>\n",
       "      <th>Price</th>\n",
       "      <th>Quantity</th>\n",
       "      <th>Order Total</th>\n",
       "    </tr>\n",
       "    <tr>\n",
       "      <th>Customer ID</th>\n",
       "      <th></th>\n",
       "      <th></th>\n",
       "      <th></th>\n",
       "    </tr>\n",
       "  </thead>\n",
       "  <tbody>\n",
       "    <tr>\n",
       "      <th>Cust_001</th>\n",
       "      <td>5.824503</td>\n",
       "      <td>2.966887</td>\n",
       "      <td>17.572848</td>\n",
       "    </tr>\n",
       "    <tr>\n",
       "      <th>Cust_002</th>\n",
       "      <td>6.241935</td>\n",
       "      <td>3.122581</td>\n",
       "      <td>19.719355</td>\n",
       "    </tr>\n",
       "    <tr>\n",
       "      <th>Cust_003</th>\n",
       "      <td>6.178571</td>\n",
       "      <td>2.957143</td>\n",
       "      <td>17.328571</td>\n",
       "    </tr>\n",
       "    <tr>\n",
       "      <th>Cust_004</th>\n",
       "      <td>6.336806</td>\n",
       "      <td>3.194444</td>\n",
       "      <td>20.354167</td>\n",
       "    </tr>\n",
       "    <tr>\n",
       "      <th>Cust_005</th>\n",
       "      <td>5.921429</td>\n",
       "      <td>2.921429</td>\n",
       "      <td>17.932143</td>\n",
       "    </tr>\n",
       "    <tr>\n",
       "      <th>...</th>\n",
       "      <td>...</td>\n",
       "      <td>...</td>\n",
       "      <td>...</td>\n",
       "    </tr>\n",
       "    <tr>\n",
       "      <th>Cust_096</th>\n",
       "      <td>6.517751</td>\n",
       "      <td>3.029586</td>\n",
       "      <td>18.949704</td>\n",
       "    </tr>\n",
       "    <tr>\n",
       "      <th>Cust_097</th>\n",
       "      <td>6.512270</td>\n",
       "      <td>3.006135</td>\n",
       "      <td>19.858896</td>\n",
       "    </tr>\n",
       "    <tr>\n",
       "      <th>Cust_098</th>\n",
       "      <td>6.689873</td>\n",
       "      <td>3.037975</td>\n",
       "      <td>19.838608</td>\n",
       "    </tr>\n",
       "    <tr>\n",
       "      <th>Cust_099</th>\n",
       "      <td>6.938356</td>\n",
       "      <td>2.972603</td>\n",
       "      <td>21.123288</td>\n",
       "    </tr>\n",
       "    <tr>\n",
       "      <th>Cust_100</th>\n",
       "      <td>6.173410</td>\n",
       "      <td>2.872832</td>\n",
       "      <td>17.557803</td>\n",
       "    </tr>\n",
       "  </tbody>\n",
       "</table>\n",
       "<p>100 rows × 3 columns</p>\n",
       "</div>"
      ],
      "text/plain": [
       "                Price  Quantity  Order Total\n",
       "Customer ID                                 \n",
       "Cust_001     5.824503  2.966887    17.572848\n",
       "Cust_002     6.241935  3.122581    19.719355\n",
       "Cust_003     6.178571  2.957143    17.328571\n",
       "Cust_004     6.336806  3.194444    20.354167\n",
       "Cust_005     5.921429  2.921429    17.932143\n",
       "...               ...       ...          ...\n",
       "Cust_096     6.517751  3.029586    18.949704\n",
       "Cust_097     6.512270  3.006135    19.858896\n",
       "Cust_098     6.689873  3.037975    19.838608\n",
       "Cust_099     6.938356  2.972603    21.123288\n",
       "Cust_100     6.173410  2.872832    17.557803\n",
       "\n",
       "[100 rows x 3 columns]"
      ]
     },
     "execution_count": 100,
     "metadata": {},
     "output_type": "execute_result"
    }
   ],
   "source": [
    "#javobni shu yerda yozing\n",
    "df.groupby(\"Customer ID\").agg(\"mean\", numeric_only=True)"
   ]
  },
  {
   "cell_type": "markdown",
   "metadata": {
    "id": "zkJ-osPCT3xb"
   },
   "source": [
    "#20) Qanday omillar sotuv hajmiga ta’sir qiladi? Bu bo‘yicha umumiy xulosa chiqaring. Javobni quyida kommentariya sifatida yozing!"
   ]
  },
  {
   "cell_type": "code",
   "execution_count": null,
   "metadata": {
    "id": "kFqweyJDUDVp"
   },
   "outputs": [],
   "source": [
    "#javobni shu yerda yozing\n",
    "# 1) Sotuv hajmini oshirish uchun qaysi kunlarda mahsulotlar ko'p sotilishini aniqlash kerak\n",
    "# 2) ko'p sotiladigan mahsulotlardan ko'proq keltirish kerak\n",
    "# 3) Hafta oxiri (shanba-yakshanba) yoki bayram kunlari savdo kuchli bo‘ladi."
   ]
  }
 ],
 "metadata": {
  "colab": {
   "provenance": [
    {
     "file_id": "1rtaIvvCux5122GCO-KGilIIoe4SrMch8",
     "timestamp": 1749882231703
    },
    {
     "file_id": "1G-1csoPl5p0KbeKPxDtuKuvhN9LH5B5W",
     "timestamp": 1749467279192
    }
   ]
  },
  "kernelspec": {
   "display_name": "california_housing",
   "language": "python",
   "name": "python3"
  },
  "language_info": {
   "codemirror_mode": {
    "name": "ipython",
    "version": 3
   },
   "file_extension": ".py",
   "mimetype": "text/x-python",
   "name": "python",
   "nbconvert_exporter": "python",
   "pygments_lexer": "ipython3",
   "version": "3.11.11"
  }
 },
 "nbformat": 4,
 "nbformat_minor": 0
}
